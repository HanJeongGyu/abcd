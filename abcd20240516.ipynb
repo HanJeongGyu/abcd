{
  "nbformat": 4,
  "nbformat_minor": 0,
  "metadata": {
    "colab": {
      "provenance": [],
      "authorship_tag": "ABX9TyPCuc02/xo1ntrTpqggo9a5",
      "include_colab_link": true
    },
    "kernelspec": {
      "name": "python3",
      "display_name": "Python 3"
    },
    "language_info": {
      "name": "python"
    }
  },
  "cells": [
    {
      "cell_type": "markdown",
      "metadata": {
        "id": "view-in-github",
        "colab_type": "text"
      },
      "source": [
        "<a href=\"https://colab.research.google.com/github/HanJeongGyu/abcd/blob/main/abcd20240516.ipynb\" target=\"_parent\"><img src=\"https://colab.research.google.com/assets/colab-badge.svg\" alt=\"Open In Colab\"/></a>"
      ]
    },
    {
      "cell_type": "markdown",
      "source": [],
      "metadata": {
        "id": "1EWxn17RFxTy"
      }
    },
    {
      "cell_type": "code",
      "execution_count": 6,
      "metadata": {
        "colab": {
          "base_uri": "https://localhost:8080/"
        },
        "id": "hzge-jJN3b1J",
        "outputId": "0ae977d9-ed6c-4eda-ca2d-dd8a8f9fb777"
      },
      "outputs": [
        {
          "output_type": "stream",
          "name": "stdout",
          "text": [
            "tensor([[[0., 1., 2.],\n",
            "         [3., 4., 5.],\n",
            "         [6., 7., 8.]]])\n",
            "MaxPool2d(kernel_size=2, stride=1, padding=0, dilation=1, ceil_mode=False)\n",
            "tensor([[[4., 5.],\n",
            "         [7., 8.]]])\n",
            "AvgPool2d(kernel_size=2, stride=1, padding=0)\n",
            "tensor([[[2., 3.],\n",
            "         [5., 6.]]])\n"
          ]
        }
      ],
      "source": [
        "import torch\n",
        "import torch.nn as nn\n",
        "import torch.nn.functional as F\n",
        "\n",
        "## Pooling example\n",
        "input_example = torch.tensor([[[0, 1.0, 2],[3, 4, 5], [6, 7, 8]]])\n",
        "print(input_example)\n",
        "\n",
        "# Max pooling\n",
        "max_pooling_layer = nn.MaxPool2d(kernel_size=2, stride=1)\n",
        "print(max_pooling_layer)\n",
        "print(max_pooling_layer(input_example))\n",
        "\n",
        "# Average pooling\n",
        "average_pooling_layer = nn.AvgPool2d(kernel_size=2, stride=1)\n",
        "print(average_pooling_layer)\n",
        "print(average_pooling_layer(input_example))"
      ]
    },
    {
      "cell_type": "code",
      "source": [
        "import torch\n",
        "import torch.nn as nn\n",
        "import torch.nn.functional as F\n",
        "\n",
        "input_example = torch.tensor([[[12,20,30,0.0],[20,12,2,0],[0,70,5,2]]])\n",
        "print(input_example)\n",
        "\n",
        "max_pooling_layer = nn.MaxPool2d(kernel_size=2, stride=2)\n",
        "print('\\nmax pooling:\\n', max_pooling_layer(input_example))\n",
        "\n",
        "average_pooling_layer = torch.nn.AvgPool2d(kernel_size=2, stride=2)\n",
        "print('\\naverage pooling:\\n', average_pooling_layer(input_example))\n"
      ],
      "metadata": {
        "colab": {
          "base_uri": "https://localhost:8080/"
        },
        "id": "5k3WbJ1h37-E",
        "outputId": "4a579935-0806-40f4-b9f2-58947cf67415"
      },
      "execution_count": 7,
      "outputs": [
        {
          "output_type": "stream",
          "name": "stdout",
          "text": [
            "tensor([[[12., 20., 30.,  0.],\n",
            "         [20., 12.,  2.,  0.],\n",
            "         [ 0., 70.,  5.,  2.]]])\n",
            "\n",
            "max pooling:\n",
            " tensor([[[20., 30.]]])\n",
            "\n",
            "average pooling:\n",
            " tensor([[[16.,  8.]]])\n"
          ]
        }
      ]
    },
    {
      "cell_type": "markdown",
      "source": [],
      "metadata": {
        "id": "rQ11AreGKh4W"
      }
    },
    {
      "cell_type": "code",
      "source": [
        "import torch.nn as nn\n",
        "\n",
        "conv1 = nn.Conv2d(in_channels=1, out_channels=32, kernel_size=3, padding=1)\n",
        "\n",
        "print(conv1)"
      ],
      "metadata": {
        "colab": {
          "base_uri": "https://localhost:8080/"
        },
        "id": "4fP31sy2BbFu",
        "outputId": "bcf179a2-308d-4ad1-a829-4ccc7235fa46"
      },
      "execution_count": 10,
      "outputs": [
        {
          "output_type": "stream",
          "name": "stdout",
          "text": [
            "Conv2d(1, 32, kernel_size=(3, 3), stride=(1, 1), padding=(1, 1))\n"
          ]
        }
      ]
    },
    {
      "cell_type": "code",
      "source": [
        "import torch.nn as nn\n",
        "\n",
        "conv2 = nn.Conv2d(in_channels=32, out_channels=64, kernel_size=3, padding=1)\n",
        "\n",
        "print(conv2)"
      ],
      "metadata": {
        "colab": {
          "base_uri": "https://localhost:8080/"
        },
        "id": "KiD63IhSCdIb",
        "outputId": "401c5f85-c647-47a5-c6d3-4f4b7ea10608"
      },
      "execution_count": 11,
      "outputs": [
        {
          "output_type": "stream",
          "name": "stdout",
          "text": [
            "Conv2d(32, 64, kernel_size=(3, 3), stride=(1, 1), padding=(1, 1))\n"
          ]
        }
      ]
    },
    {
      "cell_type": "code",
      "source": [
        "import torch\n",
        "import torch.nn as nn\n",
        "import torch.nn.functional as F\n",
        "\n",
        "pool = nn.MaxPool2d(kernel_size=2)\n",
        "\n",
        "print(pool)"
      ],
      "metadata": {
        "colab": {
          "base_uri": "https://localhost:8080/",
          "height": 239
        },
        "id": "Iiptz0U7FWmZ",
        "outputId": "4cd412ca-cb87-469a-98cb-1becc660a522"
      },
      "execution_count": 16,
      "outputs": [
        {
          "output_type": "stream",
          "name": "stdout",
          "text": [
            "MaxPool2d(kernel_size=2, stride=2, padding=0, dilation=1, ceil_mode=False)\n"
          ]
        },
        {
          "output_type": "error",
          "ename": "NameError",
          "evalue": "name 'inputs' is not defined",
          "traceback": [
            "\u001b[0;31m---------------------------------------------------------------------------\u001b[0m",
            "\u001b[0;31mNameError\u001b[0m                                 Traceback (most recent call last)",
            "\u001b[0;32m<ipython-input-16-f69765c4aa2d>\u001b[0m in \u001b[0;36m<cell line: 9>\u001b[0;34m()\u001b[0m\n\u001b[1;32m      7\u001b[0m \u001b[0mprint\u001b[0m\u001b[0;34m(\u001b[0m\u001b[0mpool\u001b[0m\u001b[0;34m)\u001b[0m\u001b[0;34m\u001b[0m\u001b[0;34m\u001b[0m\u001b[0m\n\u001b[1;32m      8\u001b[0m \u001b[0;34m\u001b[0m\u001b[0m\n\u001b[0;32m----> 9\u001b[0;31m \u001b[0mout\u001b[0m \u001b[0;34m=\u001b[0m \u001b[0mconv1\u001b[0m\u001b[0;34m(\u001b[0m\u001b[0minputs\u001b[0m\u001b[0;34m)\u001b[0m\u001b[0;34m\u001b[0m\u001b[0;34m\u001b[0m\u001b[0m\n\u001b[0m\u001b[1;32m     10\u001b[0m \u001b[0;34m\u001b[0m\u001b[0m\n\u001b[1;32m     11\u001b[0m \u001b[0mprint\u001b[0m\u001b[0;34m(\u001b[0m\u001b[0mout\u001b[0m\u001b[0;34m.\u001b[0m\u001b[0mshape\u001b[0m\u001b[0;34m)\u001b[0m\u001b[0;34m\u001b[0m\u001b[0;34m\u001b[0m\u001b[0m\n",
            "\u001b[0;31mNameError\u001b[0m: name 'inputs' is not defined"
          ]
        }
      ]
    },
    {
      "cell_type": "markdown",
      "source": [],
      "metadata": {
        "id": "_DHyrj76Kjyt"
      }
    },
    {
      "cell_type": "code",
      "source": [
        "import torch\n",
        "import torch.nn as nn\n",
        "import torch.nn.functional as F\n",
        "\n",
        "inputs = torch.Tensor(1, 1, 32, 32)\n",
        "out = conv1(inputs)\n",
        "print(out.shape)"
      ],
      "metadata": {
        "colab": {
          "base_uri": "https://localhost:8080/"
        },
        "id": "4ri7rBZ6GZY6",
        "outputId": "262cdf51-c33f-4d34-eac2-40408790b693"
      },
      "execution_count": 25,
      "outputs": [
        {
          "output_type": "stream",
          "name": "stdout",
          "text": [
            "torch.Size([1, 32, 32, 32])\n"
          ]
        }
      ]
    },
    {
      "cell_type": "code",
      "source": [
        "import torch\n",
        "import torch.nn as nn\n",
        "import torch.nn.functional as F\n",
        "\n",
        "out ="
      ],
      "metadata": {
        "colab": {
          "base_uri": "https://localhost:8080/",
          "height": 110
        },
        "id": "34JRl_V9HQ0C",
        "outputId": "cf1a225c-17b7-491a-c7a4-0be08fbd5b10"
      },
      "execution_count": 23,
      "outputs": [
        {
          "output_type": "error",
          "ename": "SyntaxError",
          "evalue": "invalid syntax (<ipython-input-23-3e09a3012f4a>, line 5)",
          "traceback": [
            "\u001b[0;36m  File \u001b[0;32m\"<ipython-input-23-3e09a3012f4a>\"\u001b[0;36m, line \u001b[0;32m5\u001b[0m\n\u001b[0;31m    out =\u001b[0m\n\u001b[0m          ^\u001b[0m\n\u001b[0;31mSyntaxError\u001b[0m\u001b[0;31m:\u001b[0m invalid syntax\n"
          ]
        }
      ]
    },
    {
      "cell_type": "code",
      "source": [
        "#10\n",
        "inputs = torch.Tensor(1,1,32,32)\n",
        "\n",
        "inputs.shape"
      ],
      "metadata": {
        "colab": {
          "base_uri": "https://localhost:8080/"
        },
        "id": "xZoHswo2IiQQ",
        "outputId": "4c720aa6-df4e-4b7f-c2d8-7464ca33d8c6"
      },
      "execution_count": 26,
      "outputs": [
        {
          "output_type": "execute_result",
          "data": {
            "text/plain": [
              "torch.Size([1, 1, 32, 32])"
            ]
          },
          "metadata": {},
          "execution_count": 26
        }
      ]
    },
    {
      "cell_type": "markdown",
      "source": [
        "tenserflow 예제"
      ],
      "metadata": {
        "id": "iONkywBWJmWh"
      }
    },
    {
      "cell_type": "code",
      "source": [
        "import tensorflow as if\n",
        "from tensorflow.keras.layers import Input,Dense,Flatten\n",
        "from tensorflow.keras.models import Model\n",
        "\n",
        "height = 28\n",
        "width = 28\n",
        "channels = 3 #RGB\n",
        "\n",
        "input_layer = input(shape = (height, width, channels)) #입력층에 shape 설정\n",
        "\n",
        "flatten_layer= Flatten()(input_layer) #이미지 데이터 1차원 벡터로 펼치기"
      ],
      "metadata": {
        "id": "YN7FUTTfJQIJ"
      },
      "execution_count": null,
      "outputs": []
    },
    {
      "cell_type": "markdown",
      "source": [],
      "metadata": {
        "id": "jZnpdKuY8ACw"
      }
    }
  ]
}